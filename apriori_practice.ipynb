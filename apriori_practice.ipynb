{
 "cells": [
  {
   "cell_type": "code",
   "execution_count": 1,
   "id": "e725be2b",
   "metadata": {},
   "outputs": [],
   "source": [
    "transactions = [\n",
    "    ['Hot Dogs', 'Buns', 'Ketchup'],\n",
    "    ['Hot Dogs', 'Buns'],\n",
    "    ['Hot Dogs', 'Coke', 'Chips'],\n",
    "    ['Chips', 'Coke'],\n",
    "    ['Chips', 'Ketchup'],\n",
    "    ['Hot Dogs', 'Coke', 'Chips']\n",
    "]\n"
   ]
  },
  {
   "cell_type": "code",
   "execution_count": 5,
   "id": "25039ee6",
   "metadata": {},
   "outputs": [],
   "source": [
    "from mlxtend.frequent_patterns import association_rules, apriori\n",
    "from mlxtend.preprocessing import TransactionEncoder\n",
    "import pandas as pd"
   ]
  },
  {
   "cell_type": "code",
   "execution_count": 7,
   "id": "aa6a06db",
   "metadata": {},
   "outputs": [],
   "source": [
    "te = TransactionEncoder()\n",
    "encoded_df = te.fit(transactions).transform(transactions)\n",
    "encoded_df = pd.DataFrame(encoded_df, columns = te.columns_)"
   ]
  },
  {
   "cell_type": "code",
   "execution_count": 8,
   "id": "b728b74a",
   "metadata": {},
   "outputs": [],
   "source": [
    "frequent_itemsets = apriori(encoded_df, min_support=0.3333, use_colnames=True)\n",
    "rules = association_rules(frequent_itemsets, metric=\"confidence\", min_threshold=0.6, num_itemsets = 2)"
   ]
  },
  {
   "cell_type": "code",
   "execution_count": 9,
   "id": "b333d14e",
   "metadata": {},
   "outputs": [
    {
     "name": "stdout",
     "output_type": "stream",
     "text": [
      "    support                 itemsets\n",
      "0  0.333333                   (Buns)\n",
      "1  0.666667                  (Chips)\n",
      "2  0.500000                   (Coke)\n",
      "3  0.666667               (Hot Dogs)\n",
      "4  0.333333                (Ketchup)\n",
      "5  0.333333         (Hot Dogs, Buns)\n",
      "6  0.500000            (Coke, Chips)\n",
      "7  0.333333        (Hot Dogs, Chips)\n",
      "8  0.333333         (Coke, Hot Dogs)\n",
      "9  0.333333  (Hot Dogs, Coke, Chips)\n",
      "\n",
      "\n",
      "\n",
      "\n",
      "\n",
      "         antecedents        consequents  antecedent support  \\\n",
      "0             (Buns)         (Hot Dogs)            0.333333   \n",
      "1             (Coke)            (Chips)            0.500000   \n",
      "2            (Chips)             (Coke)            0.666667   \n",
      "3             (Coke)         (Hot Dogs)            0.500000   \n",
      "4   (Coke, Hot Dogs)            (Chips)            0.333333   \n",
      "5  (Hot Dogs, Chips)             (Coke)            0.333333   \n",
      "6      (Coke, Chips)         (Hot Dogs)            0.500000   \n",
      "7             (Coke)  (Hot Dogs, Chips)            0.500000   \n",
      "\n",
      "   consequent support   support  confidence  lift  representativity  leverage  \\\n",
      "0            0.666667  0.333333    1.000000   1.5               1.0  0.111111   \n",
      "1            0.666667  0.500000    1.000000   1.5               1.0  0.166667   \n",
      "2            0.500000  0.500000    0.750000   1.5               1.0  0.166667   \n",
      "3            0.666667  0.333333    0.666667   1.0               1.0  0.000000   \n",
      "4            0.666667  0.333333    1.000000   1.5               1.0  0.111111   \n",
      "5            0.500000  0.333333    1.000000   2.0               1.0  0.166667   \n",
      "6            0.666667  0.333333    0.666667   1.0               1.0  0.000000   \n",
      "7            0.333333  0.333333    0.666667   2.0               1.0  0.166667   \n",
      "\n",
      "   conviction  zhangs_metric   jaccard  certainty  kulczynski  \n",
      "0         inf       0.500000  0.500000        1.0    0.750000  \n",
      "1         inf       0.666667  0.750000        1.0    0.875000  \n",
      "2         2.0       1.000000  0.750000        0.5    0.875000  \n",
      "3         1.0       0.000000  0.400000        0.0    0.583333  \n",
      "4         inf       0.500000  0.500000        1.0    0.750000  \n",
      "5         inf       0.750000  0.666667        1.0    0.833333  \n",
      "6         1.0       0.000000  0.400000        0.0    0.583333  \n",
      "7         2.0       1.000000  0.666667        0.5    0.833333  \n"
     ]
    }
   ],
   "source": [
    "print(frequent_itemsets)\n",
    "print(\"\\n\\n\\n\\n\")\n",
    "print(rules)"
   ]
  },
  {
   "cell_type": "code",
   "execution_count": null,
   "id": "c5af9edb",
   "metadata": {},
   "outputs": [],
   "source": []
  }
 ],
 "metadata": {
  "kernelspec": {
   "display_name": "Python 3 (ipykernel)",
   "language": "python",
   "name": "python3"
  },
  "language_info": {
   "codemirror_mode": {
    "name": "ipython",
    "version": 3
   },
   "file_extension": ".py",
   "mimetype": "text/x-python",
   "name": "python",
   "nbconvert_exporter": "python",
   "pygments_lexer": "ipython3",
   "version": "3.11.5"
  }
 },
 "nbformat": 4,
 "nbformat_minor": 5
}
